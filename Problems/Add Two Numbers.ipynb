{
 "cells": [
  {
   "cell_type": "markdown",
   "metadata": {},
   "source": [
    "\n",
    "ADD TWO NUMBERS(LINKED LIST)\n",
    "\n",
    "You are given two non-empty linked lists representing two non-negative integers. The digits are stored in reverse order and each of their nodes contain a single digit. Add the two numbers and return it as a linked list.\n",
    "\n",
    "You may assume the two numbers do not contain any leading zero, except the number 0 itself.\n",
    "\n",
    "Example:\n",
    "\n",
    "Input: (2 -> 4 -> 3) + (5 -> 6 -> 4)\n",
    "Output: 7 -> 0 -> 8\n",
    "Explanation: 342 + 465 = 807.\n"
   ]
  },
  {
   "cell_type": "code",
   "execution_count": 15,
   "metadata": {},
   "outputs": [
    {
     "name": "stdout",
     "output_type": "stream",
     "text": [
      "2 4 3\n",
      "5 6 4\n",
      "7-> 0-> 8-> NONE\n"
     ]
    }
   ],
   "source": [
    "class Node:\n",
    "    def __init__(self,data):\n",
    "        self.data = data\n",
    "        self.next = None\n",
    "        \n",
    "class Solution(object):\n",
    "    def addtwonumbers(self,l1,l2):\n",
    "        head = curr = Node(0)      #dummy node whose data is O\n",
    "\n",
    "        carry = 0\n",
    "        while l1 or l2 or carry:\n",
    "            if l1:\n",
    "                carry += l1.data\n",
    "                l1 = l1.next\n",
    "            if l2:\n",
    "                carry += l2.data\n",
    "                l2 = l2.next\n",
    "            curr.next = Node(carry%10)\n",
    "            curr = curr.next\n",
    "            carry //=10        \n",
    "        return head.next\n",
    "    \n",
    "def TakeInput():\n",
    "    inputlist = [int(ele) for ele in input().split()]\n",
    "    head = tail = None\n",
    "    for curr_data in inputlist:\n",
    "        if curr_data == -1:\n",
    "            break\n",
    "            \n",
    "        newnode = Node(curr_data)\n",
    "        \n",
    "        if head is None:\n",
    "            head = newnode\n",
    "            tail = newnode\n",
    "        else:\n",
    "            tail.next = newnode\n",
    "            tail = newnode\n",
    "            \n",
    "    return head\n",
    "\n",
    "def printLL(head):\n",
    "    while head is not None:\n",
    "        print(str(head.data)+\"->\",end=\" \")\n",
    "        head = head.next\n",
    "    print('NONE')\n",
    "    \n",
    "l1 = TakeInput()\n",
    "l2 = TakeInput()\n",
    "add = Solution()\n",
    "head = add.addtwonumbers(l1,l2)\n",
    "printLL(head)"
   ]
  },
  {
   "cell_type": "code",
   "execution_count": null,
   "metadata": {},
   "outputs": [],
   "source": []
  }
 ],
 "metadata": {
  "kernelspec": {
   "display_name": "Python 3",
   "language": "python",
   "name": "python3"
  },
  "language_info": {
   "codemirror_mode": {
    "name": "ipython",
    "version": 3
   },
   "file_extension": ".py",
   "mimetype": "text/x-python",
   "name": "python",
   "nbconvert_exporter": "python",
   "pygments_lexer": "ipython3",
   "version": "3.6.9"
  }
 },
 "nbformat": 4,
 "nbformat_minor": 4
}
