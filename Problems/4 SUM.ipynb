{
 "cells": [
  {
   "cell_type": "markdown",
   "metadata": {},
   "source": [
    "Given an array nums of n integers and an integer target, are there elements a, b, c, and d in nums such that a + b + c + d = target? Find all unique quadruplets in the array which gives the sum of target.\n",
    "\n",
    "Note:\n",
    "\n",
    "The solution set must not contain duplicate quadruplets.\n",
    "\n",
    "Example:\n",
    "\n",
    "Given array nums = [1, 0, -1, 0, -2, 2], and target = 0.\n",
    "\n",
    "A solution set is:\n",
    "[\n",
    "  [-1,  0, 0, 1],\n",
    "  [-2, -1, 1, 2],\n",
    "  [-2,  0, 0, 2]\n",
    "]"
   ]
  },
  {
   "cell_type": "code",
   "execution_count": 3,
   "metadata": {},
   "outputs": [
    {
     "name": "stdout",
     "output_type": "stream",
     "text": [
      "1 0 -1 0 -2 2\n",
      "0\n"
     ]
    },
    {
     "data": {
      "text/plain": [
       "[[-2, -1, 1, 2], [-2, 0, 0, 2], [-1, 0, 0, 1]]"
      ]
     },
     "execution_count": 3,
     "metadata": {},
     "output_type": "execute_result"
    }
   ],
   "source": [
    "\n",
    "def fourSum(nums, target):\n",
    "    def kSum(nums, target, k):\n",
    "        if len(nums) == 0 or nums[0] * k > target or target > nums[-1] * k:\n",
    "            return []\n",
    "        if k == 2:\n",
    "            return twoSum(nums, target)\n",
    "        res = []\n",
    "        for i in range(len(nums)):\n",
    "            if i == 0 or nums[i - 1] != nums[i]:\n",
    "                for _, set in enumerate(kSum(nums[i + 1:], target - nums[i], k - 1)):\n",
    "                    res.append([nums[i]] + set)\n",
    "        return res\n",
    "\n",
    "    def twoSum(nums, target):\n",
    "        res = []\n",
    "        s = set()\n",
    "        for i in range(len(nums)):\n",
    "            if len(res) == 0 or res[-1][1] != nums[i]:\n",
    "                if target - nums[i] in s:\n",
    "                    res.append([target - nums[i], nums[i]])\n",
    "            s.add(nums[i])\n",
    "        return res\n",
    "\n",
    "    nums.sort()\n",
    "    return kSum(nums, target, 4)\n",
    "\n",
    "nums = [int(ele) for ele in input().split()]\n",
    "target = int(input())\n",
    "fourSum(nums,target)\n"
   ]
  }
 ],
 "metadata": {
  "kernelspec": {
   "display_name": "Python 3",
   "language": "python",
   "name": "python3"
  },
  "language_info": {
   "codemirror_mode": {
    "name": "ipython",
    "version": 3
   },
   "file_extension": ".py",
   "mimetype": "text/x-python",
   "name": "python",
   "nbconvert_exporter": "python",
   "pygments_lexer": "ipython3",
   "version": "3.6.9"
  }
 },
 "nbformat": 4,
 "nbformat_minor": 4
}
