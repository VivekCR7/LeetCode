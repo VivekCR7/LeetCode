{
 "cells": [
  {
   "cell_type": "markdown",
   "metadata": {},
   "source": [
    "Given a sorted linked list, delete all duplicates such that each element appear only once.\n",
    "\n",
    "Example 1:\n",
    "\n",
    "Input: 1->1->2\n",
    "Output: 1->2\n",
    "Example 2:\n",
    "\n",
    "Input: 1->1->2->3->3\n",
    "Output: 1->2->3"
   ]
  },
  {
   "cell_type": "code",
   "execution_count": 2,
   "metadata": {},
   "outputs": [
    {
     "name": "stdout",
     "output_type": "stream",
     "text": [
      "1 1 2 3 3\n",
      "1->2->3."
     ]
    }
   ],
   "source": [
    "class Node:\n",
    "    def __init__(self,data):\n",
    "        self.data = data\n",
    "        self.next = None\n",
    "        \n",
    "def Takeinput():\n",
    "    inputlist = [int(ele) for ele in input().split()]\n",
    "    head = tail = None\n",
    "    for curr_data in inputlist:\n",
    "        if curr_data == -1:\n",
    "            break\n",
    "            \n",
    "        newnode = Node(curr_data)\n",
    "        \n",
    "        if head is None:\n",
    "            head = tail = newnode\n",
    "        else:\n",
    "            tail.next = newnode\n",
    "            tail = newnode\n",
    "            \n",
    "    return head\n",
    "\n",
    "def printLL(head):\n",
    "    while head is not None:\n",
    "        if head.next:\n",
    "            print(str(head.data)+\"->\",end=\"\")\n",
    "        else:\n",
    "            print(str(head.data),end=\".\")\n",
    "        head= head.next\n",
    "        \n",
    "    return\n",
    "\n",
    "def deleteDuplicates(head):\n",
    "    if not head or not head.next:\n",
    "        return head\n",
    "    \n",
    "    curr = head\n",
    "    \n",
    "    while curr.next is not None:\n",
    "        if curr.data == curr.next.data:\n",
    "            newnode = curr.next.next\n",
    "            curr.next = None\n",
    "            curr.next = newnode\n",
    "        else:\n",
    "            curr = curr.next\n",
    "            \n",
    "    return head\n",
    "\n",
    "head = Takeinput()\n",
    "head = deleteDuplicates(head)\n",
    "printLL(head)"
   ]
  }
 ],
 "metadata": {
  "kernelspec": {
   "display_name": "Python 3",
   "language": "python",
   "name": "python3"
  },
  "language_info": {
   "codemirror_mode": {
    "name": "ipython",
    "version": 3
   },
   "file_extension": ".py",
   "mimetype": "text/x-python",
   "name": "python",
   "nbconvert_exporter": "python",
   "pygments_lexer": "ipython3",
   "version": "3.6.9"
  }
 },
 "nbformat": 4,
 "nbformat_minor": 4
}
