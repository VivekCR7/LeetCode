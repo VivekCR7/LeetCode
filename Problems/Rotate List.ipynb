{
 "cells": [
  {
   "cell_type": "markdown",
   "metadata": {},
   "source": [
    "Given a linked list, rotate the list to the right by k places, where k is non-negative.\n",
    "\n",
    "Input: 1->2->3->4->5->NULL, k = 2\n",
    "\n",
    "Output: 4->5->1->2->3->NULL\n",
    "\n",
    "Explanation:\n",
    "\n",
    "rotate 1 steps to the right: 5->1->2->3->4->NULL\n",
    "rotate 2 steps to the right: 4->5->1->2->3->NULL"
   ]
  },
  {
   "cell_type": "code",
   "execution_count": 9,
   "metadata": {},
   "outputs": [
    {
     "name": "stdout",
     "output_type": "stream",
     "text": [
      "1 2 3 4 5 \n",
      "2\n",
      "4->5->1->2->3."
     ]
    }
   ],
   "source": [
    "class Node:\n",
    "    def __init__(self,data):\n",
    "        self.data = data\n",
    "        self.next = None\n",
    "        \n",
    "def Takeinput():\n",
    "    inputlist = [int(ele) for ele in input().split()]\n",
    "    head = tail = None\n",
    "    for curr_data in inputlist:\n",
    "        if curr_data == -1:\n",
    "            break\n",
    "            \n",
    "        newnode = Node(curr_data)\n",
    "        \n",
    "        if head is None:\n",
    "            head = newnode\n",
    "            tail = newnode\n",
    "        else:\n",
    "            tail.next = newnode\n",
    "            tail = newnode\n",
    "    return head\n",
    "\n",
    "def printLL(head):\n",
    "    while head is not None:\n",
    "        if head.next:\n",
    "            print(str(head.data)+\"->\",end=\"\")\n",
    "        else:\n",
    "            print(str(head.data)+\".\",end=\"\")\n",
    "        head = head.next\n",
    "    return\n",
    "\n",
    "\n",
    "def length_LL(head):\n",
    "    count = 0\n",
    "    while head:\n",
    "        count+=1\n",
    "        head = head.next\n",
    "    return count\n",
    "    \n",
    "\n",
    "def RotateList(head,k):\n",
    "    if not head or not head.next:\n",
    "        return head\n",
    "    \n",
    "    curr = head\n",
    "    prev = last = None\n",
    "    length = length_LL(head)\n",
    "    k %= length\n",
    "    \n",
    "    if k == 0:\n",
    "        return head\n",
    "    \n",
    "    count = 0\n",
    "    while curr:\n",
    "        if count < length - k:\n",
    "            prev = curr\n",
    "            count+=1\n",
    "            \n",
    "        if not curr.next:\n",
    "            last = curr\n",
    "        curr = curr.next\n",
    "        \n",
    "    newhead = prev.next\n",
    "    prev.next = None\n",
    "    last.next = head\n",
    "    \n",
    "    return newhead\n",
    "\n",
    "head = Takeinput()\n",
    "k = int(input())\n",
    "head = RotateList(head,k)\n",
    "printLL(head)"
   ]
  }
 ],
 "metadata": {
  "kernelspec": {
   "display_name": "Python 3",
   "language": "python",
   "name": "python3"
  },
  "language_info": {
   "codemirror_mode": {
    "name": "ipython",
    "version": 3
   },
   "file_extension": ".py",
   "mimetype": "text/x-python",
   "name": "python",
   "nbconvert_exporter": "python",
   "pygments_lexer": "ipython3",
   "version": "3.6.9"
  }
 },
 "nbformat": 4,
 "nbformat_minor": 4
}
