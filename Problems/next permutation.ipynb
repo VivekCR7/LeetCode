{
 "cells": [
  {
   "cell_type": "markdown",
   "metadata": {},
   "source": [
    "Implement next permutation, which rearranges numbers into the lexicographically next greater permutation of numbers.\n",
    "\n",
    "If such arrangement is not possible, it must rearrange it as the lowest possible order (ie, sorted in ascending order).\n",
    "\n",
    "The replacement must be in-place and use only constant extra memory.\n",
    "\n",
    "Here are some examples. Inputs are in the left-hand column and its corresponding outputs are in the right-hand column.\n",
    "\n",
    "1,2,3 → 1,3,2\n",
    "3,2,1 → 1,2,3\n",
    "1,1,5 → 1,5,1"
   ]
  },
  {
   "cell_type": "code",
   "execution_count": 4,
   "metadata": {},
   "outputs": [
    {
     "name": "stdout",
     "output_type": "stream",
     "text": [
      "1 1 5\n"
     ]
    },
    {
     "data": {
      "text/plain": [
       "[1, 5, 1]"
      ]
     },
     "execution_count": 4,
     "metadata": {},
     "output_type": "execute_result"
    }
   ],
   "source": [
    "def nextPermutation(nums):\n",
    "    n=len(nums)\n",
    "    found = False\n",
    "    i = len(nums)-2\n",
    "    while i >=0:\n",
    "        if nums[i] < nums[i+1]:           #To find the breakpoint\n",
    "            found =True\n",
    "            break\n",
    "        i-=1\n",
    "    if not found:                             #If no breakpoint then sort the list\n",
    "        nums.sort()\n",
    "        return nums\n",
    "    else:\n",
    "        j=i+1\n",
    "        while j<n and nums[j]>nums[i]:\n",
    "            j+=1\n",
    "        j-=1\n",
    "\n",
    "        #Swap\n",
    "        nums[i],nums[j]=nums[j],nums[i]\n",
    "\n",
    "        #rightmost change\n",
    "        nums[i+1:] = nums[i+1:][::-1]\n",
    "        return nums\n",
    "    \n",
    "nums = [int(ele) for ele in input().split()]\n",
    "nextPermutation(nums)"
   ]
  }
 ],
 "metadata": {
  "kernelspec": {
   "display_name": "Python 3",
   "language": "python",
   "name": "python3"
  },
  "language_info": {
   "codemirror_mode": {
    "name": "ipython",
    "version": 3
   },
   "file_extension": ".py",
   "mimetype": "text/x-python",
   "name": "python",
   "nbconvert_exporter": "python",
   "pygments_lexer": "ipython3",
   "version": "3.8.3"
  }
 },
 "nbformat": 4,
 "nbformat_minor": 4
}
