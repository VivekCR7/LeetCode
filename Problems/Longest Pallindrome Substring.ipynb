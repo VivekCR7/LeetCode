{
 "cells": [
  {
   "cell_type": "markdown",
   "metadata": {},
   "source": [
    "Given a string s, find the longest palindromic substring in s. You may assume that the maximum length of s is 1000.\n",
    "\n",
    "Example 1:\n",
    "\n",
    "Input: \"babad\"\n",
    "Output: \"bab\"\n",
    "Note: \"aba\" is also a valid answer.\n",
    "Example 2:\n",
    "\n",
    "Input: \"cbbd\"\n",
    "Output: \"bb\""
   ]
  },
  {
   "cell_type": "code",
   "execution_count": 3,
   "metadata": {},
   "outputs": [
    {
     "name": "stdout",
     "output_type": "stream",
     "text": [
      "abacd\n"
     ]
    },
    {
     "data": {
      "text/plain": [
       "'aba'"
      ]
     },
     "execution_count": 3,
     "metadata": {},
     "output_type": "execute_result"
    }
   ],
   "source": [
    "def longestPalindrome(s):\n",
    "        if not s:\n",
    "            return \"\"\n",
    "        \n",
    "        dp = [[False for i in range(len(s))] for j in range(len(s))]\n",
    "        \n",
    "        for i in range(len(s)):\n",
    "            dp[i][i] = True\n",
    "        \n",
    "        step = 1\n",
    "        max_len = 1\n",
    "        res = s[0]\n",
    "        for _ in range(len(s)):\n",
    "            i = 0\n",
    "            for j in range(step, len(s)):\n",
    "                if s[i] == s[j] and (j-1 < i+1 or dp[i+1][j-1]):\n",
    "                    dp[i][j] = True\n",
    "                    if j-i+1 > max_len:\n",
    "                        max_len = j-i+1\n",
    "                        res = s[i:j+1]\n",
    "                i += 1\n",
    "            step += 1\n",
    "        return res\n",
    "    \n",
    "s = input()\n",
    "longestPalindrome(s)"
   ]
  }
 ],
 "metadata": {
  "kernelspec": {
   "display_name": "Python 3",
   "language": "python",
   "name": "python3"
  },
  "language_info": {
   "codemirror_mode": {
    "name": "ipython",
    "version": 3
   },
   "file_extension": ".py",
   "mimetype": "text/x-python",
   "name": "python",
   "nbconvert_exporter": "python",
   "pygments_lexer": "ipython3",
   "version": "3.6.9"
  }
 },
 "nbformat": 4,
 "nbformat_minor": 4
}
