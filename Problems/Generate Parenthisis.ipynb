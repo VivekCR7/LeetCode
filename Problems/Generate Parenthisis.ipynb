{
 "cells": [
  {
   "cell_type": "markdown",
   "metadata": {},
   "source": [
    "Given n pairs of parentheses, write a function to generate all combinations of well-formed parentheses.\n",
    "\n",
    "For example, given n = 3, a solution set is:\n",
    "\n",
    "[\n",
    "  \"((()))\",\n",
    "  \"(()())\",\n",
    "  \"(())()\",\n",
    "  \"()(())\",\n",
    "  \"()()()\"\n",
    "]"
   ]
  },
  {
   "cell_type": "code",
   "execution_count": 9,
   "metadata": {},
   "outputs": [
    {
     "name": "stdout",
     "output_type": "stream",
     "text": [
      "3\n",
      "['((()))', '(()())', '(())()', '()(())', '()()()']\n"
     ]
    }
   ],
   "source": [
    "#BackTracking\n",
    "\n",
    "def generateParenthesis(N):\n",
    "    ans = []\n",
    "    def backtrack(S = '', left = 0, right = 0):\n",
    "        if len(S) == 2 * N:\n",
    "            ans.append(S)\n",
    "            return\n",
    "        if left < N:\n",
    "            backtrack(S+'(', left+1, right)\n",
    "        if right < left:\n",
    "            backtrack(S+')', left, right+1)\n",
    "\n",
    "    backtrack()\n",
    "    return ans\n",
    "    \n",
    "N = int(input())\n",
    "print(generateParenthesis(N))"
   ]
  }
 ],
 "metadata": {
  "kernelspec": {
   "display_name": "Python 3",
   "language": "python",
   "name": "python3"
  },
  "language_info": {
   "codemirror_mode": {
    "name": "ipython",
    "version": 3
   },
   "file_extension": ".py",
   "mimetype": "text/x-python",
   "name": "python",
   "nbconvert_exporter": "python",
   "pygments_lexer": "ipython3",
   "version": "3.8.3"
  }
 },
 "nbformat": 4,
 "nbformat_minor": 4
}
