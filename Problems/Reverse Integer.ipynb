{
 "cells": [
  {
   "cell_type": "code",
   "execution_count": null,
   "metadata": {},
   "outputs": [],
   "source": [
    "Given a 32-bit signed integer, reverse digits of an integer.\n",
    "\n",
    "Example 1:\n",
    "\n",
    "Input: 123\n",
    "Output: 321\n",
    "Example 2:\n",
    "\n",
    "Input: -123\n",
    "Output: -321\n",
    "Example 3:\n",
    "\n",
    "Input: 120\n",
    "Output: 21\n",
    "    \n",
    "Note:\n",
    "Assume we are dealing with an environment which could only store integers within the\n",
    "32-bit signed integer range: [−231,  231 − 1]. For the purpose of this problem, assume\n",
    "that your function returns 0 when the reversed integer overflows."
   ]
  },
  {
   "cell_type": "code",
   "execution_count": 7,
   "metadata": {},
   "outputs": [
    {
     "name": "stdout",
     "output_type": "stream",
     "text": [
      "123\n",
      "321\n"
     ]
    }
   ],
   "source": [
    "\n",
    "def reverse(x):\n",
    "    negative = x < 0\n",
    "\n",
    "    if negative:\n",
    "        x *= -1\n",
    "\n",
    "    reverse = 0\n",
    "    while (x > 0):\n",
    "        reverse = (reverse * 10) + x % 10\n",
    "        x = x // 10\n",
    "\n",
    "    if negative:\n",
    "        reverse *= -1   \n",
    "\n",
    "    if reverse >= 2**31 or reverse <=  -2**31:\n",
    "        return 0\n",
    "\n",
    "    return reverse\n",
    "\n",
    "    \n",
    "n = int(input())\n",
    "print(reverse(n))\n",
    "    "
   ]
  }
 ],
 "metadata": {
  "kernelspec": {
   "display_name": "Python 3",
   "language": "python",
   "name": "python3"
  },
  "language_info": {
   "codemirror_mode": {
    "name": "ipython",
    "version": 3
   },
   "file_extension": ".py",
   "mimetype": "text/x-python",
   "name": "python",
   "nbconvert_exporter": "python",
   "pygments_lexer": "ipython3",
   "version": "3.6.9"
  }
 },
 "nbformat": 4,
 "nbformat_minor": 4
}
