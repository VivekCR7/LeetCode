{
 "cells": [
  {
   "attachments": {
    "image.png": {
     "image/png": "[encoded data removed]"
    }
   },
   "cell_type": "markdown",
   "metadata": {},
   "source": [
    "Determine if a 9x9 Sudoku board is valid. Only the filled cells need to be validated according to the following rules:\n",
    "\n",
    "1.Each row must contain the digits 1-9 without repetition.\n",
    "2.Each column must contain the digits 1-9 without repetition.\n",
    "3.Each of the 9 3x3 sub-boxes of the grid must contain the digits 1-9 without repetition.\n",
    "\n",
    "![image.png](attachment:image.png)\n",
    "\n",
    "A partially filled sudoku which is valid.\n",
    "\n",
    "The Sudoku board could be partially filled, where empty cells are filled with the character '.'."
   ]
  },
  {
   "cell_type": "code",
   "execution_count": 2,
   "metadata": {},
   "outputs": [
    {
     "name": "stdout",
     "output_type": "stream",
     "text": [
      "For First board:\n",
      "True\n",
      "For second board:\n",
      "False\n"
     ]
    }
   ],
   "source": [
    "def isValid(board):\n",
    "    row = 9\n",
    "    col = 9\n",
    "    \n",
    "    row_dic = {}\n",
    "    column_dic = {}\n",
    "    grid_dic = {}\n",
    "    gridcnt = 0\n",
    "    \n",
    "    for i in range(row):\n",
    "        row_dic[i] = set()\n",
    "        \n",
    "        for j in range(col):\n",
    "            if(board[i][j] != \".\"):\n",
    "                curr = int(board[i][j])\n",
    "                gridcnt = 3*(i//3)+j//3\n",
    "                \n",
    "                if curr in row_dic[i]:\n",
    "                    return False\n",
    "                else:\n",
    "                    row_dic[i].add(curr)\n",
    "                    \n",
    "                if(j in column_dic):\n",
    "                    if(curr in column_dic[j]):\n",
    "                        return False\n",
    "                    else:\n",
    "                        column_dic[j].add(curr)\n",
    "                else:\n",
    "                    column_dic[j] = set()\n",
    "                    column_dic[j].add(curr)\n",
    "\n",
    "                if(gridcnt in grid_dic):\n",
    "                    if(curr in grid_dic[gridcnt]):\n",
    "                        return False\n",
    "                    else:\n",
    "                        grid_dic[gridcnt].add(curr)\n",
    "                else:\n",
    "                    grid_dic[gridcnt] = set()\n",
    "                    grid_dic[gridcnt].add(curr)\n",
    "                    \n",
    "    return True\n",
    "    \n",
    "board1 = [\n",
    "  [\"5\",\"3\",\".\",\".\",\"7\",\".\",\".\",\".\",\".\"],\n",
    "  [\"6\",\".\",\".\",\"1\",\"9\",\"5\",\".\",\".\",\".\"],\n",
    "  [\".\",\"9\",\"8\",\".\",\".\",\".\",\".\",\"6\",\".\"],\n",
    "  [\"8\",\".\",\".\",\".\",\"6\",\".\",\".\",\".\",\"3\"],\n",
    "  [\"4\",\".\",\".\",\"8\",\".\",\"3\",\".\",\".\",\"1\"],\n",
    "  [\"7\",\".\",\".\",\".\",\"2\",\".\",\".\",\".\",\"6\"],\n",
    "  [\".\",\"6\",\".\",\".\",\".\",\".\",\"2\",\"8\",\".\"],\n",
    "  [\".\",\".\",\".\",\"4\",\"1\",\"9\",\".\",\".\",\"5\"],\n",
    "  [\".\",\".\",\".\",\".\",\"8\",\".\",\".\",\"7\",\"9\"]\n",
    "]\n",
    "   \n",
    "ans = isValid(board1)\n",
    "\n",
    "print(\"For First board:\")\n",
    "print(ans)\n",
    "\n",
    "board2 = [\n",
    "  [\"8\",\"3\",\".\",\".\",\"7\",\".\",\".\",\".\",\".\"],\n",
    "  [\"6\",\".\",\".\",\"1\",\"9\",\"5\",\".\",\".\",\".\"],\n",
    "  [\".\",\"9\",\"8\",\".\",\".\",\".\",\".\",\"6\",\".\"],\n",
    "  [\"8\",\".\",\".\",\".\",\"6\",\".\",\".\",\".\",\"3\"],\n",
    "  [\"4\",\".\",\".\",\"8\",\".\",\"3\",\".\",\".\",\"1\"],\n",
    "  [\"7\",\".\",\".\",\".\",\"2\",\".\",\".\",\".\",\"6\"],\n",
    "  [\".\",\"6\",\".\",\".\",\".\",\".\",\"2\",\"8\",\".\"],\n",
    "  [\".\",\".\",\".\",\"4\",\"1\",\"9\",\".\",\".\",\"5\"],\n",
    "  [\".\",\".\",\".\",\".\",\"8\",\".\",\".\",\"7\",\"9\"]\n",
    "]\n",
    "\n",
    "ans = isValid(board2)\n",
    "print(\"For second board:\")\n",
    "print(ans)\n"
   ]
  }
 ],
 "metadata": {
  "kernelspec": {
   "display_name": "Python 3",
   "language": "python",
   "name": "python3"
  },
  "language_info": {
   "codemirror_mode": {
    "name": "ipython",
    "version": 3
   },
   "file_extension": ".py",
   "mimetype": "text/x-python",
   "name": "python",
   "nbconvert_exporter": "python",
   "pygments_lexer": "ipython3",
   "version": "3.8.3"
  }
 },
 "nbformat": 4,
 "nbformat_minor": 4
}
