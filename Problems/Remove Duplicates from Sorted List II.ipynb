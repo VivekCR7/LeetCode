{
 "cells": [
  {
   "cell_type": "markdown",
   "metadata": {},
   "source": [
    "Given a sorted linked list, delete all nodes that have duplicate numbers, leaving only distinct numbers from the original list.\n",
    "\n",
    "Return the linked list sorted as well.\n",
    "\n",
    "Example 1:\n",
    "\n",
    "Input: 1->2->3->3->4->4->5\n",
    "Output: 1->2->5\n",
    "Example 2:\n",
    "\n",
    "Input: 1->1->1->2->3\n",
    "Output: 2->3"
   ]
  },
  {
   "cell_type": "code",
   "execution_count": 12,
   "metadata": {},
   "outputs": [
    {
     "name": "stdout",
     "output_type": "stream",
     "text": [
      "1 2 3 3 4 4 5\n",
      "1->2->5."
     ]
    }
   ],
   "source": [
    "class Node:\n",
    "    def __init__(self,data):\n",
    "        self.data = data\n",
    "        self.next = None\n",
    "        \n",
    "def Takeinput():\n",
    "    inputlist = [int(ele) for ele in input().split()]\n",
    "    head = tail = None\n",
    "    for curr_data in inputlist:\n",
    "        if curr_data == -1:\n",
    "            break\n",
    "        \n",
    "        newnode = Node(curr_data)\n",
    "        \n",
    "        if head is None:\n",
    "            head = tail = newnode\n",
    "        else:\n",
    "            tail.next = newnode\n",
    "            tail = newnode\n",
    "    return head\n",
    "\n",
    "def printLL(head):\n",
    "    while head is not None:\n",
    "        if head.next:\n",
    "            print(str(head.data)+\"->\",end=\"\")\n",
    "        else:\n",
    "            print(str(head.data),end=\".\")\n",
    "        head = head.next\n",
    "    return \n",
    "\n",
    "def deleteDuplicates(head):\n",
    "    if not head or not head.next:\n",
    "        return head\n",
    "    \n",
    "    curr = head\n",
    "    prev = None\n",
    "    next = None\n",
    "    \n",
    "    while curr:\n",
    "        next = curr.next\n",
    "        \n",
    "        if next and next.data == curr.data:\n",
    "            while next and next.data == curr.data:\n",
    "                next = next.next\n",
    "            \n",
    "            if prev:\n",
    "                curr = next\n",
    "                prev.next = curr\n",
    "            \n",
    "            else:\n",
    "                head = next\n",
    "                curr = head\n",
    "                \n",
    "        else:\n",
    "            prev = curr\n",
    "            curr = next\n",
    "            \n",
    "    return head\n",
    "            \n",
    "\n",
    "\n",
    "head = Takeinput()\n",
    "head = deleteDuplicates(head)\n",
    "printLL(head)"
   ]
  }
 ],
 "metadata": {
  "kernelspec": {
   "display_name": "Python 3",
   "language": "python",
   "name": "python3"
  },
  "language_info": {
   "codemirror_mode": {
    "name": "ipython",
    "version": 3
   },
   "file_extension": ".py",
   "mimetype": "text/x-python",
   "name": "python",
   "nbconvert_exporter": "python",
   "pygments_lexer": "ipython3",
   "version": "3.6.9"
  }
 },
 "nbformat": 4,
 "nbformat_minor": 4
}
