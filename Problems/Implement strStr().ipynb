{
 "cells": [
  {
   "cell_type": "markdown",
   "metadata": {},
   "source": [
    "Implement strStr().\n",
    "\n",
    "Return the index of the first occurrence of needle in haystack, or -1 if needle is not part of haystack.\n",
    "\n",
    "Example 1:\n",
    "\n",
    "Input: haystack = \"hello\", needle = \"ll\"\n",
    "Output: 2\n",
    "Example 2:\n",
    "\n",
    "Input: haystack = \"aaaaa\", needle = \"bba\"\n",
    "Output: -1"
   ]
  },
  {
   "cell_type": "code",
   "execution_count": 3,
   "metadata": {},
   "outputs": [
    {
     "name": "stdout",
     "output_type": "stream",
     "text": [
      "missisippi\n",
      "isi\n"
     ]
    },
    {
     "data": {
      "text/plain": [
       "4"
      ]
     },
     "execution_count": 3,
     "metadata": {},
     "output_type": "execute_result"
    }
   ],
   "source": [
    "def strStr(haystack,needle): \n",
    "    \n",
    "    if needle == \"\":\n",
    "        return 0\n",
    "    if needle not in haystack:\n",
    "        return -1\n",
    "\n",
    "    i = 0\n",
    "    j = 0\n",
    "    count = 0\n",
    "    while j < len(needle):\n",
    "        if haystack[i] != needle[j]:\n",
    "            count += 1\n",
    "            i = count\n",
    "            j = 0\n",
    "        else:\n",
    "            j += 1\n",
    "            i += 1\n",
    "    return count\n",
    "    \n",
    "haystack = input()\n",
    "needle = input()\n",
    "strStr(haystack,needle)"
   ]
  }
 ],
 "metadata": {
  "kernelspec": {
   "display_name": "Python 3",
   "language": "python",
   "name": "python3"
  },
  "language_info": {
   "codemirror_mode": {
    "name": "ipython",
    "version": 3
   },
   "file_extension": ".py",
   "mimetype": "text/x-python",
   "name": "python",
   "nbconvert_exporter": "python",
   "pygments_lexer": "ipython3",
   "version": "3.8.3"
  }
 },
 "nbformat": 4,
 "nbformat_minor": 4
}
