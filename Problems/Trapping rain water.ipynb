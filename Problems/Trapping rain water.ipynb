{
 "cells": [
  {
   "attachments": {
    "image.png": {
     "image/png": "[encoded data removed]"
    }
   },
   "cell_type": "markdown",
   "metadata": {},
   "source": [
    "Given n non-negative integers representing an elevation map where the width of each bar is 1, compute how much water it is able to trap after raining.\n",
    "\n",
    "\n",
    "![image.png](attachment:image.png)\n",
    "\n",
    "The above elevation map is represented by array [0,1,0,2,1,0,1,3,2,1,2,1]. In this case, 6 units of rain water (blue section) are being trapped. Thanks Marcos for contributing this image!\n",
    "\n",
    "Example:\n",
    "\n",
    "Input: [0,1,0,2,1,0,1,3,2,1,2,1]\n",
    "Output: 6"
   ]
  },
  {
   "cell_type": "code",
   "execution_count": 3,
   "metadata": {},
   "outputs": [
    {
     "data": {
      "text/plain": [
       "6"
      ]
     },
     "execution_count": 3,
     "metadata": {},
     "output_type": "execute_result"
    }
   ],
   "source": [
    "def trap(height):\n",
    "    leftmax = rightmax = 0\n",
    "    left, right = 0, len(height)-1\n",
    "    water = 0\n",
    "    \n",
    "    while left<right:\n",
    "        if height[left]>leftmax:\n",
    "            leftmax = height[left]\n",
    "        if height[right]>rightmax:\n",
    "            rightmax = height[right]\n",
    "        \n",
    "        if leftmax < rightmax:\n",
    "            water += max(0,leftmax-height[left])\n",
    "            left+=1\n",
    "        else:\n",
    "            water += max(0,rightmax-height[right])\n",
    "            right -= 1\n",
    "    \n",
    "    return water\n",
    "\n",
    "height = [0,1,0,2,1,0,1,3,2,1,2,1]\n",
    "trap(height)\n",
    "    "
   ]
  }
 ],
 "metadata": {
  "kernelspec": {
   "display_name": "Python 3",
   "language": "python",
   "name": "python3"
  },
  "language_info": {
   "codemirror_mode": {
    "name": "ipython",
    "version": 3
   },
   "file_extension": ".py",
   "mimetype": "text/x-python",
   "name": "python",
   "nbconvert_exporter": "python",
   "pygments_lexer": "ipython3",
   "version": "3.8.3"
  }
 },
 "nbformat": 4,
 "nbformat_minor": 4
}
