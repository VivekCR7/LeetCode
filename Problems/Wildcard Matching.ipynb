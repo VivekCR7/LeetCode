{
 "cells": [
  {
   "cell_type": "markdown",
   "metadata": {},
   "source": [
    "Given an input string (s) and a pattern (p), implement wildcard pattern matching with support for '?' and '*'.\n",
    "\n",
    "'?' Matches any single character.\n",
    "'*' Matches any sequence of characters (including the empty sequence).\n",
    "The matching should cover the entire input string (not partial).\n",
    "\n",
    "Note:\n",
    "\n",
    "s could be empty and contains only lowercase letters a-z.\n",
    "p could be empty and contains only lowercase letters a-z, and characters like ? or *.\n",
    "Example 1:\n",
    "\n",
    "Input:\n",
    "s = \"aa\"\n",
    "p = \"a\"\n",
    "Output: false\n",
    "Explanation: \"a\" does not match the entire string \"aa\".\n",
    "Example 2:\n",
    "\n",
    "Input:\n",
    "s = \"aa\"\n",
    "p = \"*\"\n",
    "Output: true\n",
    "Explanation: '*' matches any sequence."
   ]
  },
  {
   "cell_type": "code",
   "execution_count": 5,
   "metadata": {},
   "outputs": [
    {
     "name": "stdout",
     "output_type": "stream",
     "text": [
      "ac\n",
      "a*\n"
     ]
    },
    {
     "data": {
      "text/plain": [
       "True"
      ]
     },
     "execution_count": 5,
     "metadata": {},
     "output_type": "execute_result"
    }
   ],
   "source": [
    "def isMatch(s, p):\n",
    "    if not p:\n",
    "        return not s\n",
    "\n",
    "    dp = [[False] * (len(p) + 1) for _ in range(len(s) + 1)]\n",
    "\n",
    "    # Init True values for the first continuing '*'\n",
    "    dp[0][0] = True\n",
    "    for j in range(len(p)):\n",
    "        if p[j] == '*':\n",
    "            dp[0][j + 1] = True\n",
    "        else:\n",
    "            break\n",
    "\n",
    "    for i in range(len(s)):\n",
    "        for j in range(len(p)):\n",
    "            if p[j] in {s[i], '?'}:\n",
    "                # Advance index in both s or p\n",
    "                dp[i + 1][j + 1] = dp[i][j]\n",
    "\n",
    "            elif p[j] == '*':\n",
    "                if j - 1 >= 0:\n",
    "                    # skip this '*'\n",
    "                    dp[i + 1][j + 1] |= dp[i + 1][j - 1]\n",
    "\n",
    "                # Advance index in either s or p\n",
    "                dp[i + 1][j + 1] = dp[i + 1][j] or dp[i][j + 1]\n",
    "    return dp[len(s)][len(p)]\n",
    "\n",
    "s = input()\n",
    "p = input()\n",
    "isMatch(s,p)"
   ]
  }
 ],
 "metadata": {
  "kernelspec": {
   "display_name": "Python 3",
   "language": "python",
   "name": "python3"
  },
  "language_info": {
   "codemirror_mode": {
    "name": "ipython",
    "version": 3
   },
   "file_extension": ".py",
   "mimetype": "text/x-python",
   "name": "python",
   "nbconvert_exporter": "python",
   "pygments_lexer": "ipython3",
   "version": "3.8.3"
  }
 },
 "nbformat": 4,
 "nbformat_minor": 4
}
