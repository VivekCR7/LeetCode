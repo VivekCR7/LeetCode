{
 "cells": [
  {
   "cell_type": "markdown",
   "metadata": {},
   "source": [
    "The string \"PAYPALISHIRING\" is written in a zigzag pattern on a given number of rows like this: (you may want to display this pattern in a fixed font for better legibility)\n",
    "\n",
    "P   A   H   N\n",
    "A P L S I I G\n",
    "Y   I   R\n",
    "\n",
    "And then read line by line: \"PAHNAPLSIIGYIR\"\n",
    "\n",
    "Write the code that will take a string and make this conversion given a number of rows:\n",
    "\n",
    "string convert(string s, int numRows);\n",
    "Example 1:\n",
    "\n",
    "Input: s = \"PAYPALISHIRING\", numRows = 3\n",
    "Output: \"PAHNAPLSIIGYIR\"\n",
    "\n",
    "Example 2:\n",
    "\n",
    "Input: s = \"PAYPALISHIRING\", numRows = 4\n",
    "Output: \"PINALSIGYAHRPI\"\n",
    "Explanation:\n",
    "\n",
    "P     I    N\n",
    "A   L S  I G\n",
    "Y A   H R\n",
    "P     I"
   ]
  },
  {
   "cell_type": "code",
   "execution_count": 6,
   "metadata": {},
   "outputs": [
    {
     "name": "stdout",
     "output_type": "stream",
     "text": [
      "paypalishiring\n",
      "4\n",
      "pinalsigyahrpi\n"
     ]
    }
   ],
   "source": [
    "def convert_zigzag(s,rows):\n",
    "    if rows == 1:\n",
    "        return s\n",
    "    \n",
    "    n = len(s)\n",
    "    cycle = 2*rows - 2\n",
    "   \n",
    "    strlist = []\n",
    "    for i in range(rows):\n",
    "        for j in range(i,n,cycle):\n",
    "            strlist.append(s[j])\n",
    "            if i!=rows-1 and i!=0 and j+cycle-2*i<n:\n",
    "                strlist.append(s[j+cycle-2*i])\n",
    "    newstr = ''.join(strlist)\n",
    "    return newstr\n",
    "    \n",
    "s = input().strip()\n",
    "rows = int(input())\n",
    "print(convert_zigzag(s,rows))"
   ]
  }
 ],
 "metadata": {
  "kernelspec": {
   "display_name": "Python 3",
   "language": "python",
   "name": "python3"
  },
  "language_info": {
   "codemirror_mode": {
    "name": "ipython",
    "version": 3
   },
   "file_extension": ".py",
   "mimetype": "text/x-python",
   "name": "python",
   "nbconvert_exporter": "python",
   "pygments_lexer": "ipython3",
   "version": "3.6.9"
  }
 },
 "nbformat": 4,
 "nbformat_minor": 4
}
