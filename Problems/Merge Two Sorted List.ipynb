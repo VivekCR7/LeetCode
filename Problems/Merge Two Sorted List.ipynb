{
 "cells": [
  {
   "cell_type": "markdown",
   "metadata": {},
   "source": [
    "Merge two sorted linked lists and return it as a new sorted list. The new list should be made by splicing together the nodes of the first two lists.\n",
    "\n",
    "Example:\n",
    "\n",
    "Input: 1->2->4, 1->3->4\n",
    "Output: 1->1->2->3->4->4"
   ]
  },
  {
   "cell_type": "code",
   "execution_count": 6,
   "metadata": {},
   "outputs": [
    {
     "name": "stdout",
     "output_type": "stream",
     "text": [
      "1 2 4\n",
      "1 3 4\n",
      "1->1->2->3->4->4."
     ]
    }
   ],
   "source": [
    "class Node:\n",
    "    def __init__(self,data):\n",
    "        self.data = data\n",
    "        self.next = None\n",
    "        \n",
    "def takeinput():\n",
    "    inputlist = [int(ele) for ele in input().split()]\n",
    "    head = tail = None\n",
    "    for curr_data in inputlist:\n",
    "        if curr_data == -1:\n",
    "            break\n",
    "            \n",
    "        newnode = Node(curr_data)\n",
    "    \n",
    "        if head is None:\n",
    "            head = newnode\n",
    "            tail = newnode\n",
    "        else:\n",
    "            tail.next = newnode\n",
    "            tail = newnode\n",
    "    return head\n",
    "\n",
    "def printll(head):\n",
    "    while head is not None:\n",
    "        if head.next:\n",
    "            print(str(head.data) + \"->\",end=\"\")\n",
    "        else:\n",
    "            print(str(head.data) + \".\",end=\"\")\n",
    "        head = head.next\n",
    "\n",
    "def mergeTwoLists(l1,l2):\n",
    "    finalhead = Node(3)                   \n",
    "    finaltail = finalhead         \n",
    "    while(l1 is not None and l2 is not None):\n",
    "        if l1.data < l2.data:\n",
    "            finaltail.next = l1\n",
    "            finaltail = finaltail.next\n",
    "            l1 = l1.next\n",
    "            \n",
    "        else:\n",
    "            finaltail.next = l2\n",
    "            finaltail = finaltail.next\n",
    "            l2 = l2.next\n",
    "     \n",
    "    while l1 is not None:\n",
    "        finaltail.next = l1\n",
    "        finaltail = finaltail.next\n",
    "        l1 = l1.next\n",
    "    \n",
    "    while l2 is not None:\n",
    "        finaltail.next = l2\n",
    "        finaltail = finaltail.next    \n",
    "        l2 = l2.next\n",
    "        \n",
    "    return finalhead.next\n",
    "\n",
    "\n",
    "    \n",
    "    \n",
    "l1 = takeinput()\n",
    "l2 = takeinput()\n",
    "head = mergeTwoLists(l1,l2)\n",
    "printll(head)\n",
    "            "
   ]
  }
 ],
 "metadata": {
  "kernelspec": {
   "display_name": "Python 3",
   "language": "python",
   "name": "python3"
  },
  "language_info": {
   "codemirror_mode": {
    "name": "ipython",
    "version": 3
   },
   "file_extension": ".py",
   "mimetype": "text/x-python",
   "name": "python",
   "nbconvert_exporter": "python",
   "pygments_lexer": "ipython3",
   "version": "3.6.9"
  }
 },
 "nbformat": 4,
 "nbformat_minor": 4
}
