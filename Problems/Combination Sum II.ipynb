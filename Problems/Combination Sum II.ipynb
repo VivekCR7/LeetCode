{
 "cells": [
  {
   "cell_type": "markdown",
   "metadata": {},
   "source": [
    "Given a collection of candidate numbers (candidates) and a target number (target), find all unique combinations in candidates where the candidate numbers sums to target.\n",
    "\n",
    "Each number in candidates may only be used once in the combination.\n",
    "\n",
    "Note:\n",
    "\n",
    "All numbers (including target) will be positive integers.\n",
    "The solution set must not contain duplicate combinations.\n",
    "Example 1:\n",
    "\n",
    "Input: candidates = [10,1,2,7,6,1,5], target = 8,\n",
    "A solution set is:\n",
    "[\n",
    "  [1, 7],\n",
    "  [1, 2, 5],\n",
    "  [2, 6],\n",
    "  [1, 1, 6]\n",
    "]\n",
    "Example 2:\n",
    "\n",
    "Input: candidates = [2,5,2,1,2], target = 5,\n",
    "A solution set is:\n",
    "[\n",
    "  [1,2,2],\n",
    "  [5]\n",
    "]"
   ]
  },
  {
   "cell_type": "code",
   "execution_count": 7,
   "metadata": {},
   "outputs": [
    {
     "name": "stdout",
     "output_type": "stream",
     "text": [
      "2 5 2 1 2\n",
      "5\n"
     ]
    },
    {
     "data": {
      "text/plain": [
       "[[1, 2, 2], [5]]"
      ]
     },
     "execution_count": 7,
     "metadata": {},
     "output_type": "execute_result"
    }
   ],
   "source": [
    "def combinationSum2(li,n):\n",
    "\n",
    "        li = sorted(li)\n",
    "        ans=[]\n",
    "        backtracking(ans,[],0,li,n)\n",
    "        \n",
    "        return ans\n",
    "    \n",
    "    \n",
    "def backtracking(ans,curr,start,li,n):\n",
    "    if n == 0:\n",
    "        ans.append(list(curr))\n",
    "        \n",
    "    for i in range(start,len(li)):\n",
    "        if li[i] > n:\n",
    "            break\n",
    "        if i != start and li[i] == li[i-1]:\n",
    "            continue\n",
    "        curr.append(li[i])\n",
    "        backtracking(ans,curr,i+1,li,n - li[i])\n",
    "        curr.pop()\n",
    "        \n",
    "        \n",
    "li = [int(i) for i in input().split()]\n",
    "n = int(input())\n",
    "combinationSum2(li,n)"
   ]
  }
 ],
 "metadata": {
  "kernelspec": {
   "display_name": "Python 3",
   "language": "python",
   "name": "python3"
  },
  "language_info": {
   "codemirror_mode": {
    "name": "ipython",
    "version": 3
   },
   "file_extension": ".py",
   "mimetype": "text/x-python",
   "name": "python",
   "nbconvert_exporter": "python",
   "pygments_lexer": "ipython3",
   "version": "3.8.3"
  }
 },
 "nbformat": 4,
 "nbformat_minor": 4
}
