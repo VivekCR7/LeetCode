{
 "cells": [
  {
   "cell_type": "markdown",
   "metadata": {},
   "source": [
    "Reverse a linked list from position m to n. Do it in one-pass.\n",
    "\n",
    "Note: 1 ≤ m ≤ n ≤ length of list.\n",
    "\n",
    "Example:\n",
    "\n",
    "Input: 1->2->3->4->5->NULL, m = 2, n = 4\n",
    "Output: 1->4->3->2->5->NULL"
   ]
  },
  {
   "cell_type": "code",
   "execution_count": 2,
   "metadata": {},
   "outputs": [
    {
     "name": "stdout",
     "output_type": "stream",
     "text": [
      "1 2 3 4 5\n",
      "2\n",
      "4\n",
      "1->4->3->2->5."
     ]
    }
   ],
   "source": [
    "class Node:\n",
    "    def __init__(self,data):\n",
    "        self.data = data\n",
    "        self.next = None\n",
    "\n",
    "def Takeinput():\n",
    "    inputlist = [int(ele) for ele in input().split()]\n",
    "    head = tail = None\n",
    "    for curr_data in inputlist:\n",
    "        if curr_data == -1:\n",
    "            break\n",
    "        \n",
    "        newnode = Node(curr_data)\n",
    "        \n",
    "        if head is None:\n",
    "            head=tail=newnode\n",
    "        else:\n",
    "            tail.next = newnode\n",
    "            tail = newnode\n",
    "    return head\n",
    "\n",
    "def printLL(head):\n",
    "    while head is not None:\n",
    "        if head.next:\n",
    "            print(str(head.data)+\"->\",end=\"\")\n",
    "        else:\n",
    "            print(str(head.data),end =\".\")\n",
    "        head = head.next\n",
    "        \n",
    "    return \n",
    "\n",
    "def reverseBetween(head,m,n):\n",
    "    \n",
    "    if not head:\n",
    "        return\n",
    "    \n",
    "    curr = head\n",
    "    prev = None\n",
    "    while m>1:\n",
    "        m-=1\n",
    "        n-=1\n",
    "        prev = curr\n",
    "        curr = curr.next\n",
    "    \n",
    "    tail, oldhead = curr,prev\n",
    "    \n",
    "    while n:\n",
    "        temp = curr.next\n",
    "        curr.next = prev\n",
    "        prev = curr\n",
    "        curr = temp\n",
    "        n -= 1\n",
    "        \n",
    "    if oldhead:\n",
    "        oldhead.next = prev\n",
    "    else:\n",
    "        head = prev\n",
    "    tail.next = curr\n",
    "    return head\n",
    "    \n",
    "\n",
    "\n",
    "head = Takeinput()\n",
    "m = int(input())\n",
    "n = int(input())\n",
    "head = reverseBetween(head,m,n)\n",
    "printLL(head)"
   ]
  }
 ],
 "metadata": {
  "kernelspec": {
   "display_name": "Python 3",
   "language": "python",
   "name": "python3"
  },
  "language_info": {
   "codemirror_mode": {
    "name": "ipython",
    "version": 3
   },
   "file_extension": ".py",
   "mimetype": "text/x-python",
   "name": "python",
   "nbconvert_exporter": "python",
   "pygments_lexer": "ipython3",
   "version": "3.6.9"
  }
 },
 "nbformat": 4,
 "nbformat_minor": 4
}
