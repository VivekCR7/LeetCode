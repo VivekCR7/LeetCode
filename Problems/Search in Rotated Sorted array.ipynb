{
 "cells": [
  {
   "cell_type": "markdown",
   "metadata": {},
   "source": [
    "You are given an integer array nums sorted in ascending order, and an integer target.\n",
    "\n",
    "Suppose that nums is rotated at some pivot unknown to you beforehand (i.e., [0,1,2,4,5,6,7] might become [4,5,6,7,0,1,2]).\n",
    "\n",
    "If target is found in the array return its index, otherwise, return -1.\n",
    "\n",
    " \n",
    "\n",
    "Example 1:\n",
    "\n",
    "Input: nums = [4,5,6,7,0,1,2], target = 0\n",
    "Output: 4\n",
    "Example 2:\n",
    "\n",
    "Input: nums = [4,5,6,7,0,1,2], target = 3\n",
    "Output: -1\n",
    "Example 3:\n",
    "\n",
    "Input: nums = [1], target = 0\n",
    "Output: -1"
   ]
  },
  {
   "cell_type": "code",
   "execution_count": 8,
   "metadata": {},
   "outputs": [
    {
     "data": {
      "text/plain": [
       "5"
      ]
     },
     "execution_count": 8,
     "metadata": {},
     "output_type": "execute_result"
    }
   ],
   "source": [
    "import bisect\n",
    "def search(nums, target):\n",
    "    \n",
    "    # 1. find the smallest num\n",
    "    \n",
    "    l, r = 0, len(nums) - 1 \n",
    "    \n",
    "    while l <= r:\n",
    "        m = (l + r) // 2\n",
    "        if nums[m] <= nums[-1]:\n",
    "            r = m - 1\n",
    "        else: \n",
    "            l = m + 1\n",
    "            \n",
    "    # find the array in the expected part of the array\n",
    "    \n",
    "    res = bisect.bisect_left(nums[:l], target) if target >= nums[0] and l != 0 else bisect.bisect_left(nums[l:], target) + l\n",
    "    return res if 0 <= res < len(nums) and nums[res] == target else -1\n",
    "\n",
    "nums = [4,5,6,7,0,1,2]\n",
    "search(nums,1)"
   ]
  },
  {
   "cell_type": "code",
   "execution_count": 6,
   "metadata": {},
   "outputs": [
    {
     "data": {
      "text/plain": [
       "-1"
      ]
     },
     "execution_count": 6,
     "metadata": {},
     "output_type": "execute_result"
    }
   ],
   "source": [
    "#using array\n",
    "\n",
    "def search(nums, target):\n",
    "    if len(nums) == 0:\n",
    "        return -1\n",
    "    \n",
    "    for i in range(len(nums)):\n",
    "        if nums[i] == target:\n",
    "            return i\n",
    "    \n",
    "    return -1\n",
    "\n",
    "nums = [4,5,6,7,0,1,2]\n",
    "search(nums,3)"
   ]
  }
 ],
 "metadata": {
  "kernelspec": {
   "display_name": "Python 3",
   "language": "python",
   "name": "python3"
  },
  "language_info": {
   "codemirror_mode": {
    "name": "ipython",
    "version": 3
   },
   "file_extension": ".py",
   "mimetype": "text/x-python",
   "name": "python",
   "nbconvert_exporter": "python",
   "pygments_lexer": "ipython3",
   "version": "3.8.3"
  }
 },
 "nbformat": 4,
 "nbformat_minor": 4
}
