{
 "cells": [
  {
   "cell_type": "code",
   "execution_count": 14,
   "metadata": {},
   "outputs": [
    {
     "name": "stdout",
     "output_type": "stream",
     "text": [
      "[['5', '3', '4', '6', '7', '8', '9', '1', '2'], ['6', '7', '2', '1', '9', '5', '3', '4', '8'], ['1', '9', '8', '3', '4', '2', '5', '6', '7'], ['8', '5', '9', '7', '6', '1', '4', '2', '3'], ['4', '2', '6', '8', '5', '3', '7', '9', '1'], ['7', '1', '3', '9', '2', '4', '8', '5', '6'], ['9', '6', '1', '5', '3', '7', '2', '8', '4'], ['2', '8', '7', '4', '1', '9', '6', '3', '5'], ['3', '4', '5', '2', '8', '6', '1', '7', '9']] "
     ]
    }
   ],
   "source": [
    "def solveSudoku(board):\n",
    "\n",
    "    def can_place(i, j, num):\n",
    "        # Check row\n",
    "        if any(num == n for n in board[i]):\n",
    "            return False\n",
    "\n",
    "        # Check col\n",
    "        if any(num == n for n in list(zip(*board))[j]):\n",
    "            return False\n",
    "\n",
    "        # Check box\n",
    "        start_row, start_col = (i // 3) * 3, (j // 3) * 3\n",
    "        for r in range(start_row, start_row + 3):\n",
    "            for c in range(start_col, start_col + 3):\n",
    "                if num == board[r][c]:\n",
    "                    return False\n",
    "        return True\n",
    "\n",
    "    def find_unassigned():\n",
    "        for r in range(len(board)):\n",
    "            for c in range(len(board[0])):\n",
    "                if board[r][c] == '.':\n",
    "                    return r, c\n",
    "        return -1, -1\n",
    "\n",
    "    def solve():\n",
    "        r, c = find_unassigned()\n",
    "\n",
    "        if r == -1 and c == -1:\n",
    "            return True\n",
    "\n",
    "        for num in [str(n) for n in range(1, 10)]:\n",
    "            if can_place(r, c, num):\n",
    "                board[r][c] = num\n",
    "                if solve():\n",
    "                    return True\n",
    "                board[r][c] = '.'\n",
    "        return False\n",
    "\n",
    "    if not board:\n",
    "        return\n",
    "    solve()\n",
    "    print(board,end=\" \")\n",
    "        \n",
    "board = [\n",
    "  [\"5\",\"3\",\".\",\".\",\"7\",\".\",\".\",\".\",\".\"],\n",
    "  [\"6\",\".\",\".\",\"1\",\"9\",\"5\",\".\",\".\",\".\"],\n",
    "  [\".\",\"9\",\"8\",\".\",\".\",\".\",\".\",\"6\",\".\"],\n",
    "  [\"8\",\".\",\".\",\".\",\"6\",\".\",\".\",\".\",\"3\"],\n",
    "  [\"4\",\".\",\".\",\"8\",\".\",\"3\",\".\",\".\",\"1\"],\n",
    "  [\"7\",\".\",\".\",\".\",\"2\",\".\",\".\",\".\",\"6\"],\n",
    "  [\".\",\"6\",\".\",\".\",\".\",\".\",\"2\",\"8\",\".\"],\n",
    "  [\".\",\".\",\".\",\"4\",\"1\",\"9\",\".\",\".\",\"5\"],\n",
    "  [\".\",\".\",\".\",\".\",\"8\",\".\",\".\",\"7\",\"9\"]\n",
    "]\n",
    "\n",
    "ans = solveSudoku(board)\n"
   ]
  }
 ],
 "metadata": {
  "kernelspec": {
   "display_name": "Python 3",
   "language": "python",
   "name": "python3"
  },
  "language_info": {
   "codemirror_mode": {
    "name": "ipython",
    "version": 3
   },
   "file_extension": ".py",
   "mimetype": "text/x-python",
   "name": "python",
   "nbconvert_exporter": "python",
   "pygments_lexer": "ipython3",
   "version": "3.8.3"
  }
 },
 "nbformat": 4,
 "nbformat_minor": 4
}
