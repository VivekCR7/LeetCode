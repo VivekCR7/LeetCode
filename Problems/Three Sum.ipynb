{
 "cells": [
  {
   "cell_type": "markdown",
   "metadata": {},
   "source": [
    "Given an array nums of n integers, are there elements a, b, c in nums such that a + b + c = 0? Find all unique triplets in the array which gives the sum of zero.\n",
    "\n",
    "Notice that the solution set must not contain duplicate triplets.\n",
    "\n",
    " \n",
    "\n",
    "Example 1:\n",
    "\n",
    "Input: nums = [-1,0,1,2,-1,-4]\n",
    "Output: [[-1,-1,2],[-1,0,1]]\n",
    "Example 2:\n",
    "\n",
    "Input: nums = []\n",
    "Output: []\n",
    "Example 3:\n",
    "\n",
    "Input: nums = [0]\n",
    "Output: []\n",
    " \n",
    "\n",
    "Constraints:\n",
    "\n",
    "0 <= nums.length <= 3000\n",
    "-105 <= nums[i] <= 105"
   ]
  },
  {
   "cell_type": "code",
   "execution_count": 2,
   "metadata": {},
   "outputs": [
    {
     "name": "stdout",
     "output_type": "stream",
     "text": [
      "-1 1 0 2 -1 -4\n",
      "{(-1, -1, 2), (-1, 0, 1)}\n"
     ]
    }
   ],
   "source": [
    "def Three_Sum(nums):\n",
    "    \n",
    "    ans = set()\n",
    "    \n",
    "    #sort the list\n",
    "    nums.sort()\n",
    "    \n",
    "    for pivot in range(1,len(nums)-1):\n",
    "        left = 0\n",
    "        right = len(nums)-1\n",
    "        while pivot < right and pivot > left:\n",
    "            zero = nums[left] + nums[pivot] + nums[right]\n",
    "            if zero > 0:\n",
    "                right -= 1\n",
    "            elif zero < 0:\n",
    "                left += 1\n",
    "            else:\n",
    "                ans.add(tuple([nums[left],nums[pivot],nums[right]]))\n",
    "                left += 1\n",
    "                right -= 1\n",
    "\n",
    "    return ans\n",
    "\n",
    "nums = [int(i) for i in input().split()]\n",
    "ans = Three_Sum(nums)\n",
    "print(ans)"
   ]
  }
 ],
 "metadata": {
  "kernelspec": {
   "display_name": "Python 3",
   "language": "python",
   "name": "python3"
  },
  "language_info": {
   "codemirror_mode": {
    "name": "ipython",
    "version": 3
   },
   "file_extension": ".py",
   "mimetype": "text/x-python",
   "name": "python",
   "nbconvert_exporter": "python",
   "pygments_lexer": "ipython3",
   "version": "3.6.9"
  }
 },
 "nbformat": 4,
 "nbformat_minor": 4
}
