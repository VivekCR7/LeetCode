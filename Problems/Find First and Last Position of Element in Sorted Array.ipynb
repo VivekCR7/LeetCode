{
 "cells": [
  {
   "cell_type": "markdown",
   "metadata": {},
   "source": [
    "Given an array of integers nums sorted in ascending order, find the starting and ending position of a given target value.\n",
    "\n",
    "Your algorithm's runtime complexity must be in the order of O(log n).\n",
    "\n",
    "If the target is not found in the array, return [-1, -1].\n",
    "\n",
    "Example 1:\n",
    "\n",
    "Input: nums = [5,7,7,8,8,10], target = 8\n",
    "Output: [3,4]\n",
    "Example 2:\n",
    "\n",
    "Input: nums = [5,7,7,8,8,10], target = 6\n",
    "Output: [-1,-1]"
   ]
  },
  {
   "cell_type": "code",
   "execution_count": 18,
   "metadata": {},
   "outputs": [
    {
     "data": {
      "text/plain": [
       "[3, 4]"
      ]
     },
     "execution_count": 18,
     "metadata": {},
     "output_type": "execute_result"
    }
   ],
   "source": [
    "def searchRange(nums,target):\n",
    "    \n",
    "    left = binarySearch(\"LEFT\",target)\n",
    "    right = binarySearch(\"RIGHT\",target)\n",
    "    \n",
    "    return [left,right]\n",
    "    \n",
    "def binarySearch(flag,target):\n",
    "    ans = -1\n",
    "    l = 0\n",
    "    r = len(nums)-1\n",
    "    \n",
    "    while l<=r:\n",
    "        mid = (l+r)//2\n",
    "        if nums[mid] == target:\n",
    "            if flag == \"LEFT\":\n",
    "                ans = mid\n",
    "                r = mid-1\n",
    "                continue\n",
    "            else:\n",
    "                ans = mid\n",
    "                l = mid+1\n",
    "                continue\n",
    "                \n",
    "        if nums[mid] < target:\n",
    "            l=mid+1\n",
    "        else:\n",
    "            r = mid-1\n",
    "    return ans\n",
    "\n",
    "\n",
    "nums = [5,7,7,8,8,10]\n",
    "searchRange(nums,8)\n",
    "                   "
   ]
  }
 ],
 "metadata": {
  "kernelspec": {
   "display_name": "Python 3",
   "language": "python",
   "name": "python3"
  },
  "language_info": {
   "codemirror_mode": {
    "name": "ipython",
    "version": 3
   },
   "file_extension": ".py",
   "mimetype": "text/x-python",
   "name": "python",
   "nbconvert_exporter": "python",
   "pygments_lexer": "ipython3",
   "version": "3.8.3"
  }
 },
 "nbformat": 4,
 "nbformat_minor": 4
}
