{
 "cells": [
  {
   "cell_type": "code",
   "execution_count": 6,
   "metadata": {},
   "outputs": [
    {
     "name": "stdout",
     "output_type": "stream",
     "text": [
      "1 2 3 4\n",
      "[1, 2, 3, 5]\n"
     ]
    }
   ],
   "source": [
    "def plusOne(digits):\n",
    "    s = \"\"\n",
    "    for i in digits:\n",
    "        s+=str(i)\n",
    "        \n",
    "    s = int(s)\n",
    "    s+=1\n",
    "    s = str(s)\n",
    "    digits = [int(x) for x in s]\n",
    "    return digits\n",
    "\n",
    "digits = [int(i) for i in input().split()]\n",
    "print(plusOne(digits))"
   ]
  }
 ],
 "metadata": {
  "kernelspec": {
   "display_name": "Python 3",
   "language": "python",
   "name": "python3"
  },
  "language_info": {
   "codemirror_mode": {
    "name": "ipython",
    "version": 3
   },
   "file_extension": ".py",
   "mimetype": "text/x-python",
   "name": "python",
   "nbconvert_exporter": "python",
   "pygments_lexer": "ipython3",
   "version": "3.8.5"
  }
 },
 "nbformat": 4,
 "nbformat_minor": 4
}
