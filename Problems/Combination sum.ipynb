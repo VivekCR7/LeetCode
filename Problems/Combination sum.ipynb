{
 "cells": [
  {
   "cell_type": "markdown",
   "metadata": {},
   "source": [
    "Given an array of distinct integers candidates and a target integer target, return a list of all unique combinations of candidates where the chosen numbers sum to target. You may return the combinations in any order.\n",
    "\n",
    "The same number may be chosen from candidates an unlimited number of times. Two combinations are unique if the frequency of at least one of the chosen numbers is different.\n",
    "\n",
    "It is guaranteed that the number of unique combinations that sum up to target is less than 150 combinations for the given input.\n",
    "\n",
    " \n",
    "\n",
    "Example 1:\n",
    "\n",
    "Input: candidates = [2,3,6,7], target = 7\n",
    "Output: [[2,2,3],[7]]\n",
    "Explanation:\n",
    "2 and 3 are candidates, and 2 + 2 + 3 = 7. Note that 2 can be used multiple times.\n",
    "7 is a candidate, and 7 = 7.\n",
    "These are the only two combinations.\n",
    "Example 2:\n",
    "\n",
    "Input: candidates = [2,3,5], target = 8\n",
    "Output: [[2,2,2,2],[2,3,3],[3,5]]\n",
    "Example 3:\n",
    "\n",
    "Input: candidates = [2], target = 1\n",
    "Output: []\n",
    "Example 4:\n",
    "\n",
    "Input: candidates = [1], target = 1\n",
    "Output: [[1]]\n",
    "Example 5:\n",
    "\n",
    "Input: candidates = [1], target = 2\n",
    "Output: [[1,1]]"
   ]
  },
  {
   "cell_type": "code",
   "execution_count": 2,
   "metadata": {},
   "outputs": [
    {
     "name": "stdout",
     "output_type": "stream",
     "text": [
      "2 3 6 7\n",
      "7\n"
     ]
    },
    {
     "data": {
      "text/plain": [
       "[[2, 2, 3], [7]]"
      ]
     },
     "execution_count": 2,
     "metadata": {},
     "output_type": "execute_result"
    }
   ],
   "source": [
    "def CombinationSum(li,n):\n",
    "    \n",
    "    ans = []\n",
    "    BackTracking(ans, [], li, n, 0)\n",
    "    \n",
    "    return ans\n",
    "\n",
    "def BackTracking(ans, curr, li, n, idx):\n",
    "    if n < 0:\n",
    "        return\n",
    "    if n == 0:\n",
    "        ans.append(curr)\n",
    "        return\n",
    "    \n",
    "    for i in range(idx, len(li)):\n",
    "        BackTracking(ans, curr + [li[i]], li, n-li[i],i)\n",
    "        \n",
    "\n",
    "li = [int(i) for i in input().split()]\n",
    "n = int(input())\n",
    "CombinationSum(li,n)\n",
    "    \n",
    "        "
   ]
  }
 ],
 "metadata": {
  "kernelspec": {
   "display_name": "Python 3",
   "language": "python",
   "name": "python3"
  },
  "language_info": {
   "codemirror_mode": {
    "name": "ipython",
    "version": 3
   },
   "file_extension": ".py",
   "mimetype": "text/x-python",
   "name": "python",
   "nbconvert_exporter": "python",
   "pygments_lexer": "ipython3",
   "version": "3.8.3"
  }
 },
 "nbformat": 4,
 "nbformat_minor": 4
}
