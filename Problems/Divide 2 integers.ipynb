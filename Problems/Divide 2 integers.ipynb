{
 "cells": [
  {
   "cell_type": "markdown",
   "metadata": {},
   "source": [
    "Given two integers dividend and divisor, divide two integers without using multiplication, division and mod operator.\n",
    "\n",
    "Return the quotient after dividing dividend by divisor.\n",
    "\n",
    "The integer division should truncate toward zero, which means losing its fractional part. For example, truncate(8.345) = 8 and truncate(-2.7335) = -2.\n",
    "\n",
    "Example 1:\n",
    "\n",
    "Input: dividend = 10, divisor = 3\n",
    "Output: 3\n",
    "Explanation: 10/3 = truncate(3.33333..) = 3.\n",
    "Example 2:\n",
    "\n",
    "Input: dividend = 7, divisor = -3\n",
    "Output: -2\n",
    "Explanation: 7/-3 = truncate(-2.33333..) = -2."
   ]
  },
  {
   "cell_type": "code",
   "execution_count": 26,
   "metadata": {},
   "outputs": [
    {
     "name": "stdout",
     "output_type": "stream",
     "text": [
      "7\n",
      "-3\n",
      "-2\n"
     ]
    }
   ],
   "source": [
    "def divide(dividend,divisor):\n",
    "    global minimum \n",
    "    minimum = -2147483648\n",
    "    \n",
    "    if dividend == minimum and divisor == -1:\n",
    "        return 2147483647\n",
    "    \n",
    "    sign = (dividend<0) == (divisor<0)\n",
    "    \n",
    "    if dividend>0:\n",
    "        dividend = -dividend\n",
    "    if divisor > 0:\n",
    "        divisor = -divisor\n",
    "        \n",
    "    ans = divide_helper(dividend,divisor)\n",
    "    return ans if sign else -ans\n",
    "    \n",
    "def divide_helper(dividend,divisor):\n",
    "\n",
    "    if divisor < dividend:\n",
    "        return 0\n",
    "    \n",
    "    quotient = 1\n",
    "    sums = divisor\n",
    "    \n",
    "    while sums+sums>minimum and sums+sums>dividend:\n",
    "        sums+=sums\n",
    "        quotient+=quotient\n",
    "        \n",
    "    return quotient + divide_helper(dividend-sums,divisor)\n",
    "    \n",
    "    \n",
    "dividend = int(input())\n",
    "divisor = int(input())\n",
    "a = divide(dividend,divisor)\n",
    "print(a)"
   ]
  }
 ],
 "metadata": {
  "kernelspec": {
   "display_name": "Python 3",
   "language": "python",
   "name": "python3"
  },
  "language_info": {
   "codemirror_mode": {
    "name": "ipython",
    "version": 3
   },
   "file_extension": ".py",
   "mimetype": "text/x-python",
   "name": "python",
   "nbconvert_exporter": "python",
   "pygments_lexer": "ipython3",
   "version": "3.8.3"
  }
 },
 "nbformat": 4,
 "nbformat_minor": 4
}
