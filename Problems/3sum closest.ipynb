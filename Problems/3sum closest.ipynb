{
 "cells": [
  {
   "cell_type": "markdown",
   "metadata": {},
   "source": [
    "Given an array nums of n integers and an integer target, find three integers in nums such that the sum is closest to target. Return the sum of the three integers. You may assume that each input would have exactly one solution.\n",
    "\n",
    " \n",
    "\n",
    "Example 1:\n",
    "\n",
    "Input: nums = [-1,2,1,-4], target = 1\n",
    "Output: 2\n",
    "Explanation: The sum that is closest to the target is 2. (-1 + 2 + 1 = 2).\n",
    " \n",
    "\n"
   ]
  },
  {
   "cell_type": "code",
   "execution_count": 4,
   "metadata": {},
   "outputs": [
    {
     "name": "stdout",
     "output_type": "stream",
     "text": [
      "-1 1 2 4\n",
      "1\n"
     ]
    },
    {
     "data": {
      "text/plain": [
       "2"
      ]
     },
     "execution_count": 4,
     "metadata": {},
     "output_type": "execute_result"
    }
   ],
   "source": [
    "import bisect\n",
    "\n",
    "def threeSumClosest(nums, target):\n",
    "    diff = float('inf')\n",
    "    nums.sort()\n",
    "    for i in range(len(nums)):\n",
    "        for j in range(i + 1, len(nums)):\n",
    "            complement = target - nums[i] - nums[j]\n",
    "            hi = bisect.bisect_right(nums, complement, j + 1)\n",
    "            lo = hi - 1\n",
    "            if hi < len(nums) and abs(complement - nums[hi]) < abs(diff):\n",
    "                diff = complement - nums[hi]\n",
    "            if lo > j and abs(complement - nums[lo]) < abs(diff):\n",
    "                diff = complement - nums[lo]\n",
    "        if diff == 0:\n",
    "            break\n",
    "    return target - diff\n",
    "\n",
    "nums = [int(i) for i in input().split()]\n",
    "target = int(input())\n",
    "threeSumClosest(nums,target)\n"
   ]
  }
 ],
 "metadata": {
  "kernelspec": {
   "display_name": "Python 3",
   "language": "python",
   "name": "python3"
  },
  "language_info": {
   "codemirror_mode": {
    "name": "ipython",
    "version": 3
   },
   "file_extension": ".py",
   "mimetype": "text/x-python",
   "name": "python",
   "nbconvert_exporter": "python",
   "pygments_lexer": "ipython3",
   "version": "3.6.9"
  }
 },
 "nbformat": 4,
 "nbformat_minor": 4
}
