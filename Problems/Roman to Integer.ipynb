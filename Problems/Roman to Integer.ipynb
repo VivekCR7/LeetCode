{
 "cells": [
  {
   "cell_type": "markdown",
   "metadata": {},
   "source": [
    "Roman numerals are represented by seven different symbols: I, V, X, L, C, D and M.\n",
    "\n",
    "Symbol       Value\n",
    "I             1\n",
    "V             5\n",
    "X             10\n",
    "L             50\n",
    "C             100\n",
    "D             500\n",
    "M             1000\n",
    "\n",
    "For example, two is written as II in Roman numeral, just two one's added together. Twelve is written as, XII, which is simply X + II. The number twenty seven is written as XXVII, which is XX + V + II.\n",
    "\n",
    "Roman numerals are usually written largest to smallest from left to right. However, the numeral for four is not IIII. Instead, the number four is written as IV. Because the one is before the five we subtract it making four. The same principle applies to the number nine, which is written as IX. There are six instances where subtraction is used:\n",
    "\n",
    "I can be placed before V (5) and X (10) to make 4 and 9. \n",
    "X can be placed before L (50) and C (100) to make 40 and 90. \n",
    "C can be placed before D (500) and M (1000) to make 400 and 900.\n",
    "Given a roman numeral, convert it to an integer. Input is guaranteed to be within the range from 1 to 3999.\n",
    "\n",
    "Example 1:\n",
    "\n",
    "Input: \"III\"\n",
    "Output: 3\n",
    "Example 2:\n",
    "\n",
    "Input: \"IV\"\n",
    "Output: 4\n",
    "Example 3:\n",
    "\n",
    "Input: \"IX\"\n",
    "Output: 9\n",
    "Example 4:\n",
    "\n",
    "Input: \"LVIII\"\n",
    "Output: 58\n",
    "Explanation: L = 50, V= 5, III = 3.\n",
    "Example 5:\n",
    "\n",
    "Input: \"MCMXCIV\"\n",
    "Output: 1994\n",
    "Explanation: M = 1000, CM = 900, XC = 90 and IV = 4."
   ]
  },
  {
   "cell_type": "code",
   "execution_count": 5,
   "metadata": {},
   "outputs": [
    {
     "name": "stdout",
     "output_type": "stream",
     "text": [
      "XD\n",
      "510\n"
     ]
    }
   ],
   "source": [
    "def convert(s):\n",
    "    integer_dict = {\"I\":1,\"IV\":4,\"V\":5,\"IX\":9,\"X\":10,\"XL\":40,\"L\":50,\"XC\":90\n",
    "                    ,\"C\":100,\"CD\":400,\"D\":500,\"CM\":900,\"M\":1000}\n",
    "    count = 0\n",
    "    s += \" \"\n",
    "    i = 0\n",
    "    \n",
    "    while True:\n",
    "        if s[i] == \" \":\n",
    "            break;\n",
    "        if s[i] == \"I\" and (s[i+1]==\"V\" or s[i+1]==\"X\"):\n",
    "            count+= integer_dict[s[i:i+2]]\n",
    "            i+=2\n",
    "        elif s[i] == \"X\" and (s[i+1] == \"L\" or s[i+1] == \"C\"):\n",
    "            count+= integer_dict[s[i:i+2]]\n",
    "            i+=2\n",
    "        elif s[i] == \"C\" and (s[i+1] == \"D\" or s[i+1] == \"M\"):\n",
    "            count += integer_dict[s[i:i+2]]\n",
    "            i+=2\n",
    "        else:\n",
    "            count += integer_dict[s[i]]\n",
    "            i+=1\n",
    "    return count\n",
    "\n",
    "s = input()\n",
    "ans = convert(s)\n",
    "print(ans)"
   ]
  }
 ],
 "metadata": {
  "kernelspec": {
   "display_name": "Python 3",
   "language": "python",
   "name": "python3"
  },
  "language_info": {
   "codemirror_mode": {
    "name": "ipython",
    "version": 3
   },
   "file_extension": ".py",
   "mimetype": "text/x-python",
   "name": "python",
   "nbconvert_exporter": "python",
   "pygments_lexer": "ipython3",
   "version": "3.6.9"
  }
 },
 "nbformat": 4,
 "nbformat_minor": 4
}
