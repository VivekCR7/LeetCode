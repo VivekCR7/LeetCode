{
 "cells": [
  {
   "cell_type": "markdown",
   "metadata": {},
   "source": []
  },
  {
   "cell_type": "code",
   "execution_count": 21,
   "metadata": {},
   "outputs": [
    {
     "name": "stdout",
     "output_type": "stream",
     "text": [
      "6\n"
     ]
    },
    {
     "data": {
      "text/plain": [
       "'VI'"
      ]
     },
     "execution_count": 21,
     "metadata": {},
     "output_type": "execute_result"
    }
   ],
   "source": [
    "def convert(num):\n",
    "    roman_dict = {1: 'I',5: 'V',10: 'X',50: 'L',100: 'C',500: 'D',1000: 'M'}\n",
    "    res = []\n",
    "    n,r,base = num,0,1\n",
    "    \n",
    "    while n>0:\n",
    "        \n",
    "        n, r = divmod(n, 10)\n",
    "        if r<4:\n",
    "            res.append(roman_dict[base]*r)\n",
    "        elif r == 4:\n",
    "            res.append(roman_dict[base] +roman_dict[5*base])\n",
    "        elif r == 5:\n",
    "            res.append(roman_dict[5*base])\n",
    "        elif r<9:\n",
    "            res.append(roman_dict[5*base]+roman_dict[base]*(r%5))\n",
    "        elif r == 9:\n",
    "            res.append(roman_dict[base]+ roman_dict[10*base])\n",
    "        \n",
    "        base *= 10\n",
    "    return ''.join(res[::-1])\n",
    "                       \n",
    "                       \n",
    "num = int(input())\n",
    "convert(num)"
   ]
  }
 ],
 "metadata": {
  "kernelspec": {
   "display_name": "Python 3",
   "language": "python",
   "name": "python3"
  },
  "language_info": {
   "codemirror_mode": {
    "name": "ipython",
    "version": 3
   },
   "file_extension": ".py",
   "mimetype": "text/x-python",
   "name": "python",
   "nbconvert_exporter": "python",
   "pygments_lexer": "ipython3",
   "version": "3.6.9"
  }
 },
 "nbformat": 4,
 "nbformat_minor": 4
}
