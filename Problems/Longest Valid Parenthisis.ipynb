{
 "cells": [
  {
   "cell_type": "markdown",
   "metadata": {},
   "source": [
    "Given a string containing just the characters '(' and ')', find the length of the longest valid (well-formed) parentheses substring.\n",
    "\n",
    "Example 1:\n",
    "\n",
    "Input: \"(()\"\n",
    "Output: 2\n",
    "Explanation: The longest valid parentheses substring is \"()\"\n",
    "Example 2:\n",
    "\n",
    "Input: \")()())\"\n",
    "Output: 4\n",
    "Explanation: The longest valid parentheses substring is \"()()\""
   ]
  },
  {
   "cell_type": "code",
   "execution_count": 14,
   "metadata": {},
   "outputs": [
    {
     "name": "stdout",
     "output_type": "stream",
     "text": [
      ")()()(\n"
     ]
    },
    {
     "data": {
      "text/plain": [
       "4"
      ]
     },
     "execution_count": 14,
     "metadata": {},
     "output_type": "execute_result"
    }
   ],
   "source": [
    "def longest_parenthisis(s):\n",
    "    if len(s) < 1:\n",
    "        return 0\n",
    "    \n",
    "    stack = 0\n",
    "    count = 0\n",
    "    dp = [0]*len(s)\n",
    "\n",
    "    for i in range(len(s)):\n",
    "        c = s[i]\n",
    "        if c == '(':\n",
    "            stack += 1\n",
    "        if c == ')':\n",
    "            if stack > 0:\n",
    "                stack -= 1\n",
    "                dp[i] = dp[i-1] + 2\n",
    "                if i - dp[i] >= 0:\n",
    "                    dp[i] += dp[i-dp[i]]\n",
    "        count = max(dp[i], count)\n",
    "    return count\n",
    "                   \n",
    "\n",
    "s = input()\n",
    "longest_parenthisis(s)\n"
   ]
  }
 ],
 "metadata": {
  "kernelspec": {
   "display_name": "Python 3",
   "language": "python",
   "name": "python3"
  },
  "language_info": {
   "codemirror_mode": {
    "name": "ipython",
    "version": 3
   },
   "file_extension": ".py",
   "mimetype": "text/x-python",
   "name": "python",
   "nbconvert_exporter": "python",
   "pygments_lexer": "ipython3",
   "version": "3.8.3"
  }
 },
 "nbformat": 4,
 "nbformat_minor": 4
}
