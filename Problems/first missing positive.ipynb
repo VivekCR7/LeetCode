{
 "cells": [
  {
   "cell_type": "markdown",
   "metadata": {},
   "source": [
    "Given an unsorted integer array, find the smallest missing positive integer.\n",
    "\n",
    "Example 1:\n",
    "\n",
    "Input: [1,2,0]\n",
    "Output: 3\n",
    "Example 2:\n",
    "\n",
    "Input: [3,4,-1,1]\n",
    "Output: 2\n",
    "Example 3:\n",
    "\n",
    "Input: [7,8,9,11,12]\n",
    "Output: 1"
   ]
  },
  {
   "cell_type": "code",
   "execution_count": 6,
   "metadata": {},
   "outputs": [
    {
     "data": {
      "text/plain": [
       "3"
      ]
     },
     "execution_count": 6,
     "metadata": {},
     "output_type": "execute_result"
    }
   ],
   "source": [
    "def find(li):\n",
    "    n = len(li)\n",
    "    i = 0\n",
    "    while i < n:\n",
    "        if li[i] <= 0 or li[i] > n or li[i]-1 == i or li[i] == li[li[i]-1]:\n",
    "            i+=1\n",
    "        else:\n",
    "            li[li[i]-1], li[i] = li[i], li[li[i]-1]\n",
    "\n",
    "    for i in range(n):\n",
    "        if li[i]-1 != i:\n",
    "            return i+1\n",
    "    return n+1\n",
    "\n",
    "li = [1,2,0]\n",
    "find(li)"
   ]
  }
 ],
 "metadata": {
  "kernelspec": {
   "display_name": "Python 3",
   "language": "python",
   "name": "python3"
  },
  "language_info": {
   "codemirror_mode": {
    "name": "ipython",
    "version": 3
   },
   "file_extension": ".py",
   "mimetype": "text/x-python",
   "name": "python",
   "nbconvert_exporter": "python",
   "pygments_lexer": "ipython3",
   "version": "3.8.3"
  }
 },
 "nbformat": 4,
 "nbformat_minor": 4
}
