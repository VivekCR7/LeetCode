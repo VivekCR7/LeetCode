{
 "cells": [
  {
   "cell_type": "raw",
   "metadata": {},
   "source": [
    "def merge(nums1,m,nums2,n):\n",
    "    one = m-1\n",
    "    two = n-1\n",
    "    \n",
    "    #iterate through all characters in nums1\n",
    "    for i in reversed(range(m+n)):\n",
    "        if two < 0:\n",
    "            return\n",
    "        \n",
    "        #we have to deal with the case where the one pointer goes outside nums1 (-1,-2,...) because\n",
    "        #many/all of it's values were greater than the ones in nums2\n",
    "        if nums1[one] < nums2[two] or one < 0:\n",
    "            nums1[i] = nums2[two]\n",
    "            two -= 1\n",
    "        else:\n",
    "            nums1[i] == nums1[one]\n",
    "            one-=1\n",
    "\n",
    "nums1 = [1,2,3,0,0,0]\n",
    "m = 3\n",
    "nums2 = [2,5,6]       \n",
    "n = 3\n",
    "merge(nums1,m,nums2,n)"
   ]
  }
 ],
 "metadata": {
  "kernelspec": {
   "display_name": "Python 3",
   "language": "python",
   "name": "python3"
  },
  "language_info": {
   "codemirror_mode": {
    "name": "ipython",
    "version": 3
   },
   "file_extension": ".py",
   "mimetype": "text/x-python",
   "name": "python",
   "nbconvert_exporter": "python",
   "pygments_lexer": "ipython3",
   "version": "3.8.5"
  }
 },
 "nbformat": 4,
 "nbformat_minor": 4
}
