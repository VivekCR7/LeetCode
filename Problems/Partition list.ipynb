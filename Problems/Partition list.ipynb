{
 "cells": [
  {
   "cell_type": "markdown",
   "metadata": {},
   "source": [
    "Given a linked list and a value x, partition it such that all nodes less than x come before nodes greater than or equal to x.\n",
    "\n",
    "You should preserve the original relative order of the nodes in each of the two partitions.\n",
    "\n",
    "Example:\n",
    "\n",
    "Input: head = 1->4->3->2->5->2, x = 3\n",
    "Output: 1->2->2->4->3->5"
   ]
  },
  {
   "cell_type": "code",
   "execution_count": 5,
   "metadata": {},
   "outputs": [
    {
     "name": "stdout",
     "output_type": "stream",
     "text": [
      "1 4 3 2 5 2\n",
      "3\n",
      "1->2->2->4->3->5."
     ]
    }
   ],
   "source": [
    "class Node:\n",
    "    def __init__(self,data):\n",
    "        self.data = data\n",
    "        self.next = None\n",
    "        \n",
    "def Takeinput():\n",
    "    inputlist=[int(ele) for ele in input().split()]\n",
    "    head = tail = None\n",
    "    for curr_data in inputlist:\n",
    "        if curr_data == -1:\n",
    "            break\n",
    "        newnode = Node(curr_data)\n",
    "        \n",
    "        if head is None:\n",
    "            head = tail = newnode\n",
    "        else:\n",
    "            tail.next = newnode\n",
    "            tail = newnode\n",
    "            \n",
    "    return head\n",
    "\n",
    "def PrintLL(head):\n",
    "    while head is not None:\n",
    "        if head.next:\n",
    "            print(str(head.data)+'->',end=\"\")\n",
    "        else:\n",
    "            print(str(head.data),end=\".\")\n",
    "        head = head.next\n",
    "        \n",
    "    return \n",
    "\n",
    "def partition(head, x):\n",
    "\n",
    "        before = before_head = Node(0)\n",
    "        after = after_head = Node(0)\n",
    "\n",
    "        while head:\n",
    "\n",
    "            if head.data < x:\n",
    "                before.next = head\n",
    "                before = before.next\n",
    "            else:\n",
    "\n",
    "                after.next = head\n",
    "                after = after.next\n",
    "\n",
    "            head = head.next\n",
    "\n",
    "        after.next = None\n",
    "\n",
    "        before.next = after_head.next\n",
    "\n",
    "        return before_head.next\n",
    "            \n",
    "            \n",
    "\n",
    "head = Takeinput()\n",
    "x = int(input())\n",
    "head = partition(head,x)\n",
    "PrintLL(head)"
   ]
  }
 ],
 "metadata": {
  "kernelspec": {
   "display_name": "Python 3",
   "language": "python",
   "name": "python3"
  },
  "language_info": {
   "codemirror_mode": {
    "name": "ipython",
    "version": 3
   },
   "file_extension": ".py",
   "mimetype": "text/x-python",
   "name": "python",
   "nbconvert_exporter": "python",
   "pygments_lexer": "ipython3",
   "version": "3.6.9"
  }
 },
 "nbformat": 4,
 "nbformat_minor": 4
}
