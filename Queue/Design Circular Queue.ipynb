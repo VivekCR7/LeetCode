{
 "cells": [
  {
   "cell_type": "markdown",
   "metadata": {},
   "source": [
    "Design your implementation of the circular queue. The circular queue is a linear data structure in which the operations are performed based on FIFO (First In First Out) principle and the last position is connected back to the first position to make a circle. It is also called \"Ring Buffer\".\n",
    "\n",
    "One of the benefits of the circular queue is that we can make use of the spaces in front of the queue. In a normal queue, once the queue becomes full, we cannot insert the next element even if there is a space in front of the queue. But using the circular queue, we can use the space to store new values."
   ]
  },
  {
   "cell_type": "code",
   "execution_count": 1,
   "metadata": {},
   "outputs": [
    {
     "name": "stdout",
     "output_type": "stream",
     "text": [
      "3\n"
     ]
    },
    {
     "data": {
      "text/plain": [
       "4"
      ]
     },
     "execution_count": 1,
     "metadata": {},
     "output_type": "execute_result"
    }
   ],
   "source": [
    "class circularQueue:\n",
    "    \n",
    "    def __init__(self, k):\n",
    "        \"\"\"\n",
    "        Initialize your data structure here. Set the size of the queue to be k.\n",
    "        \"\"\"\n",
    "        self.queue = [None]*k\n",
    "        self.head_i = 0\n",
    "        self.tail_i = -1\n",
    "        self.q_size = 0\n",
    "        self.max_size = k\n",
    "        \n",
    "\n",
    "    def enQueue(self, value):\n",
    "        \"\"\"\n",
    "        Insert an element into the circular queue. Return true if the operation is successful.\n",
    "        \"\"\"\n",
    "        if self.isFull():\n",
    "            return False\n",
    "        \n",
    "        self.tail_i = (self.tail_i + 1)% self.max_size\n",
    "        self.queue[self.tail_i] = value\n",
    "        self.q_size += 1\n",
    "        return True\n",
    "\n",
    "    def deQueue(self):\n",
    "        \"\"\"\n",
    "        Delete an element from the circular queue. Return true if the operation is successful.\n",
    "        \"\"\"\n",
    "        if self.isEmpty():\n",
    "            return False\n",
    "        \n",
    "        self.queue[self.head_i] = None\n",
    "        self.head_i = (self.head_i + 1)%self.max_size\n",
    "        self.q_size -= 1\n",
    "        return True\n",
    "        \n",
    "\n",
    "    def Front(self):\n",
    "        \"\"\"\n",
    "        Get the front item from the queue.\n",
    "        \"\"\"\n",
    "        return -1 if self.isEmpty() else self.queue[self.head_i]\n",
    "        \n",
    "\n",
    "    def Rear(self):\n",
    "        \"\"\"\n",
    "        Get the last item from the queue.\n",
    "        \"\"\"\n",
    "        return -1 if self.isEmpty() else self.queue[self.tail_i]\n",
    "        \n",
    "\n",
    "    def isEmpty(self):\n",
    "        \"\"\"\n",
    "        Checks whether the circular queue is empty or not.\n",
    "        \"\"\"\n",
    "        return self.q_size == 0\n",
    "\n",
    "    def isFull(self):\n",
    "        \"\"\"\n",
    "        Checks whether the circular queue is full or not.\n",
    "        \"\"\"\n",
    "        return self.q_size == self.max_size\n",
    "    \n",
    "\n",
    "k = int(input())\n",
    "obj = circularQueue(k)\n",
    "obj.enQueue(1)  \n",
    "obj.enQueue(2)  \n",
    "obj.enQueue(3)  \n",
    "obj.enQueue(4) \n",
    "obj.Rear()\n",
    "obj.isFull()  \n",
    "obj.deQueue()\n",
    "obj.enQueue(4) \n",
    "obj.Rear()  "
   ]
  }
 ],
 "metadata": {
  "kernelspec": {
   "display_name": "Python 3",
   "language": "python",
   "name": "python3"
  },
  "language_info": {
   "codemirror_mode": {
    "name": "ipython",
    "version": 3
   },
   "file_extension": ".py",
   "mimetype": "text/x-python",
   "name": "python",
   "nbconvert_exporter": "python",
   "pygments_lexer": "ipython3",
   "version": "3.8.3"
  }
 },
 "nbformat": 4,
 "nbformat_minor": 4
}
