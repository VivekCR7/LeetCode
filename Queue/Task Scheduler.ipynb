{
 "cells": [
  {
   "cell_type": "markdown",
   "metadata": {},
   "source": [
    "Given a characters array tasks, representing the tasks a CPU needs to do, where each letter represents a different task. Tasks could be done in any order. Each task is done in one unit of time. For each unit of time, the CPU could complete either one task or just be idle.\n",
    "\n",
    "However, there is a non-negative integer n that represents the cooldown period between two same tasks (the same letter in the array), that is that there must be at least n units of time between any two same tasks.\n",
    "\n",
    "Return the least number of units of times that the CPU will take to finish all the given tasks.\n",
    "\n",
    " \n",
    "\n",
    "Example 1:\n",
    "\n",
    "Input: tasks = [\"A\",\"A\",\"A\",\"B\",\"B\",\"B\"], n = 2\n",
    "Output: 8\n",
    "Explanation: \n",
    "A -> B -> idle -> A -> B -> idle -> A -> B\n",
    "There is at least 2 units of time between any two same tasks.\n",
    "Example 2:\n",
    "\n",
    "Input: tasks = [\"A\",\"A\",\"A\",\"B\",\"B\",\"B\"], n = 0\n",
    "Output: 6\n",
    "Explanation: On this case any permutation of size 6 would work since n = 0.\n",
    "[\"A\",\"A\",\"A\",\"B\",\"B\",\"B\"]\n",
    "[\"A\",\"B\",\"A\",\"B\",\"A\",\"B\"]\n",
    "[\"B\",\"B\",\"B\",\"A\",\"A\",\"A\"]\n",
    "...\n",
    "And so on.\n",
    "Example 3:\n",
    "\n",
    "Input: tasks = [\"A\",\"A\",\"A\",\"A\",\"A\",\"A\",\"B\",\"C\",\"D\",\"E\",\"F\",\"G\"], n = 2\n",
    "Output: 16\n",
    "Explanation: \n",
    "One possible solution is\n",
    "A -> B -> C -> A -> D -> E -> A -> F -> G -> A -> idle -> idle -> A -> idle -> idle -> A"
   ]
  },
  {
   "cell_type": "code",
   "execution_count": 4,
   "metadata": {},
   "outputs": [
    {
     "name": "stdout",
     "output_type": "stream",
     "text": [
      "2\n"
     ]
    },
    {
     "data": {
      "text/plain": [
       "8"
      ]
     },
     "execution_count": 4,
     "metadata": {},
     "output_type": "execute_result"
    }
   ],
   "source": [
    "from collections import Counter\n",
    "import heapq\n",
    "def leastInterval(li,n):\n",
    "    count_map = Counter(li)\n",
    "    \n",
    "    max_heap = [-value for value in count_map.values()]\n",
    "    \n",
    "    heapq.heapify(max_heap)\n",
    "    \n",
    "    cycles = 0\n",
    "    while max_heap:\n",
    "        tasks = []\n",
    "        for i in range(n+1):\n",
    "            if max_heap:\n",
    "                tasks.append(heapq.heappop(max_heap))\n",
    "        \n",
    "        for task in tasks:\n",
    "            if task + 1< 0:\n",
    "                heapq.heappush(max_heap, task+1)\n",
    "        \n",
    "        if not max_heap:\n",
    "            cycles += len(tasks)\n",
    "        else:\n",
    "            cycles += n+1\n",
    "    \n",
    "    return cycles\n",
    "\n",
    "\n",
    "li = [\"A\",\"A\",\"A\",\"B\",\"B\",\"B\"]\n",
    "n = int(input())\n",
    "leastInterval(li,n)"
   ]
  }
 ],
 "metadata": {
  "kernelspec": {
   "display_name": "Python 3",
   "language": "python",
   "name": "python3"
  },
  "language_info": {
   "codemirror_mode": {
    "name": "ipython",
    "version": 3
   },
   "file_extension": ".py",
   "mimetype": "text/x-python",
   "name": "python",
   "nbconvert_exporter": "python",
   "pygments_lexer": "ipython3",
   "version": "3.8.3"
  }
 },
 "nbformat": 4,
 "nbformat_minor": 4
}
